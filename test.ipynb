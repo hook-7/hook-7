{
 "cells": [
  {
   "cell_type": "code",
   "execution_count": 5,
   "metadata": {},
   "outputs": [
    {
     "name": "stdout",
     "output_type": "stream",
     "text": [
      "static\\videos\\[电影天堂www.dytt89.com]周处除三害-2023_BD国语中字.mp4\n"
     ]
    }
   ],
   "source": [
    "from pathlib import Path\n",
    "\n",
    "# 指定您想要列出文件夹的目录路径\n",
    "directory_path = Path('./static/videos')\n",
    "\n",
    "# 获取指定目录下的所有文件夹\n",
    "directories = [entry for entry in directory_path.iterdir() if entry.is_file()]\n",
    "\n",
    "print(directories[0])\n"
   ]
  },
  {
   "cell_type": "code",
   "execution_count": 6,
   "metadata": {},
   "outputs": [
    {
     "name": "stdout",
     "output_type": "stream",
     "text": [
      "video/x-matroska\n"
     ]
    }
   ],
   "source": [
    "import mimetypes\n",
    "\n",
    "def get_mime_type(filename):\n",
    "    mimetype, _ = mimetypes.guess_type(filename)\n",
    "    return mimetype\n",
    "\n",
    "# 示例\n",
    "filename = './static/videos/阳光电影dygod.org.蜘蛛夫人：超感觉醒.2024.BD.1080P.中英双字.mkv'\n",
    "print(get_mime_type(filename))\n"
   ]
  }
 ],
 "metadata": {
  "kernelspec": {
   "display_name": "base",
   "language": "python",
   "name": "python3"
  },
  "language_info": {
   "codemirror_mode": {
    "name": "ipython",
    "version": 3
   },
   "file_extension": ".py",
   "mimetype": "text/x-python",
   "name": "python",
   "nbconvert_exporter": "python",
   "pygments_lexer": "ipython3",
   "version": "3.10.9"
  }
 },
 "nbformat": 4,
 "nbformat_minor": 2
}
